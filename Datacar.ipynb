{
  "nbformat": 4,
  "nbformat_minor": 0,
  "metadata": {
    "colab": {
      "name": "Untitled0.ipynb",
      "provenance": [],
      "authorship_tag": "ABX9TyO5drpDaah2XEC8KCNjxdOP",
      "include_colab_link": true
    },
    "kernelspec": {
      "name": "python3",
      "display_name": "Python 3"
    }
  },
  "cells": [
    {
      "cell_type": "markdown",
      "metadata": {
        "id": "view-in-github",
        "colab_type": "text"
      },
      "source": [
        "<a href=\"https://colab.research.google.com/github/RagilAkbari/Tugas-KK-minggu1-/blob/main/Datacar.ipynb\" target=\"_parent\"><img src=\"https://colab.research.google.com/assets/colab-badge.svg\" alt=\"Open In Colab\"/></a>"
      ]
    },
    {
      "cell_type": "code",
      "metadata": {
        "id": "G1a4MlqvePoK",
        "outputId": "5604c848-dc77-45e5-fdec-73cd375d80f1",
        "colab": {
          "base_uri": "https://localhost:8080/",
          "height": 222
        }
      },
      "source": [
        "import pandas as pd\n",
        "import seaborn as sns\n",
        "import matplotlib.pyplot as plt\n",
        "%matplotlib inline\n",
        "sns.set(color_codes=True)\n",
        "\n",
        "\n",
        "!wget https://raw.githubusercontent.com/RagilAkbari/Tugas-KK-minggu1-/main/data.csv"
      ],
      "execution_count": 112,
      "outputs": [
        {
          "output_type": "stream",
          "text": [
            "--2020-10-05 21:37:41--  https://raw.githubusercontent.com/RagilAkbari/Tugas-KK-minggu1-/main/data.csv\n",
            "Resolving raw.githubusercontent.com (raw.githubusercontent.com)... 151.101.0.133, 151.101.64.133, 151.101.128.133, ...\n",
            "Connecting to raw.githubusercontent.com (raw.githubusercontent.com)|151.101.0.133|:443... connected.\n",
            "HTTP request sent, awaiting response... 200 OK\n",
            "Length: 1648625 (1.6M) [text/plain]\n",
            "Saving to: ‘data.csv.5’\n",
            "\n",
            "data.csv.5          100%[===================>]   1.57M  --.-KB/s    in 0.1s    \n",
            "\n",
            "2020-10-05 21:37:42 (12.2 MB/s) - ‘data.csv.5’ saved [1648625/1648625]\n",
            "\n"
          ],
          "name": "stdout"
        }
      ]
    },
    {
      "cell_type": "code",
      "metadata": {
        "id": "GnKd6WRvesgJ",
        "outputId": "46eefacc-ab39-4dfb-cd38-e383d424020f",
        "colab": {
          "base_uri": "https://localhost:8080/",
          "height": 733
        }
      },
      "source": [
        "df = pd.read_csv('data.csv')\n",
        "df.head(10)"
      ],
      "execution_count": 113,
      "outputs": [
        {
          "output_type": "execute_result",
          "data": {
            "text/html": [
              "<div>\n",
              "<style scoped>\n",
              "    .dataframe tbody tr th:only-of-type {\n",
              "        vertical-align: middle;\n",
              "    }\n",
              "\n",
              "    .dataframe tbody tr th {\n",
              "        vertical-align: top;\n",
              "    }\n",
              "\n",
              "    .dataframe thead th {\n",
              "        text-align: right;\n",
              "    }\n",
              "</style>\n",
              "<table border=\"1\" class=\"dataframe\">\n",
              "  <thead>\n",
              "    <tr style=\"text-align: right;\">\n",
              "      <th></th>\n",
              "      <th>Make</th>\n",
              "      <th>Model</th>\n",
              "      <th>Year</th>\n",
              "      <th>Engine Fuel Type</th>\n",
              "      <th>Engine HP</th>\n",
              "      <th>Engine Cylinders</th>\n",
              "      <th>Transmission Type</th>\n",
              "      <th>Driven_Wheels</th>\n",
              "      <th>Number of Doors</th>\n",
              "      <th>Market Category</th>\n",
              "      <th>Vehicle Size</th>\n",
              "      <th>Vehicle Style</th>\n",
              "      <th>highway MPG</th>\n",
              "      <th>city mpg</th>\n",
              "      <th>Popularity</th>\n",
              "      <th>MSRP</th>\n",
              "      <th>highway kpl</th>\n",
              "      <th>city kpl</th>\n",
              "    </tr>\n",
              "  </thead>\n",
              "  <tbody>\n",
              "    <tr>\n",
              "      <th>0</th>\n",
              "      <td>BMW</td>\n",
              "      <td>1 Series M</td>\n",
              "      <td>2011</td>\n",
              "      <td>premium unleaded (required)</td>\n",
              "      <td>335.0</td>\n",
              "      <td>6.0</td>\n",
              "      <td>MANUAL</td>\n",
              "      <td>rear wheel drive</td>\n",
              "      <td>2.0</td>\n",
              "      <td>Factory Tuner,Luxury,High-Performance</td>\n",
              "      <td>Compact</td>\n",
              "      <td>Coupe</td>\n",
              "      <td>26</td>\n",
              "      <td>19</td>\n",
              "      <td>3916</td>\n",
              "      <td>46135</td>\n",
              "      <td>61.152</td>\n",
              "      <td>44.688</td>\n",
              "    </tr>\n",
              "    <tr>\n",
              "      <th>1</th>\n",
              "      <td>BMW</td>\n",
              "      <td>1 Series</td>\n",
              "      <td>2011</td>\n",
              "      <td>premium unleaded (required)</td>\n",
              "      <td>300.0</td>\n",
              "      <td>6.0</td>\n",
              "      <td>MANUAL</td>\n",
              "      <td>rear wheel drive</td>\n",
              "      <td>2.0</td>\n",
              "      <td>Luxury,Performance</td>\n",
              "      <td>Compact</td>\n",
              "      <td>Convertible</td>\n",
              "      <td>28</td>\n",
              "      <td>19</td>\n",
              "      <td>3916</td>\n",
              "      <td>40650</td>\n",
              "      <td>65.856</td>\n",
              "      <td>44.688</td>\n",
              "    </tr>\n",
              "    <tr>\n",
              "      <th>2</th>\n",
              "      <td>BMW</td>\n",
              "      <td>1 Series</td>\n",
              "      <td>2011</td>\n",
              "      <td>premium unleaded (required)</td>\n",
              "      <td>300.0</td>\n",
              "      <td>6.0</td>\n",
              "      <td>MANUAL</td>\n",
              "      <td>rear wheel drive</td>\n",
              "      <td>2.0</td>\n",
              "      <td>Luxury,High-Performance</td>\n",
              "      <td>Compact</td>\n",
              "      <td>Coupe</td>\n",
              "      <td>28</td>\n",
              "      <td>20</td>\n",
              "      <td>3916</td>\n",
              "      <td>36350</td>\n",
              "      <td>65.856</td>\n",
              "      <td>47.040</td>\n",
              "    </tr>\n",
              "    <tr>\n",
              "      <th>3</th>\n",
              "      <td>BMW</td>\n",
              "      <td>1 Series</td>\n",
              "      <td>2011</td>\n",
              "      <td>premium unleaded (required)</td>\n",
              "      <td>230.0</td>\n",
              "      <td>6.0</td>\n",
              "      <td>MANUAL</td>\n",
              "      <td>rear wheel drive</td>\n",
              "      <td>2.0</td>\n",
              "      <td>Luxury,Performance</td>\n",
              "      <td>Compact</td>\n",
              "      <td>Coupe</td>\n",
              "      <td>28</td>\n",
              "      <td>18</td>\n",
              "      <td>3916</td>\n",
              "      <td>29450</td>\n",
              "      <td>65.856</td>\n",
              "      <td>42.336</td>\n",
              "    </tr>\n",
              "    <tr>\n",
              "      <th>4</th>\n",
              "      <td>BMW</td>\n",
              "      <td>1 Series</td>\n",
              "      <td>2011</td>\n",
              "      <td>premium unleaded (required)</td>\n",
              "      <td>230.0</td>\n",
              "      <td>6.0</td>\n",
              "      <td>MANUAL</td>\n",
              "      <td>rear wheel drive</td>\n",
              "      <td>2.0</td>\n",
              "      <td>Luxury</td>\n",
              "      <td>Compact</td>\n",
              "      <td>Convertible</td>\n",
              "      <td>28</td>\n",
              "      <td>18</td>\n",
              "      <td>3916</td>\n",
              "      <td>34500</td>\n",
              "      <td>65.856</td>\n",
              "      <td>42.336</td>\n",
              "    </tr>\n",
              "    <tr>\n",
              "      <th>5</th>\n",
              "      <td>BMW</td>\n",
              "      <td>1 Series</td>\n",
              "      <td>2012</td>\n",
              "      <td>premium unleaded (required)</td>\n",
              "      <td>230.0</td>\n",
              "      <td>6.0</td>\n",
              "      <td>MANUAL</td>\n",
              "      <td>rear wheel drive</td>\n",
              "      <td>2.0</td>\n",
              "      <td>Luxury,Performance</td>\n",
              "      <td>Compact</td>\n",
              "      <td>Coupe</td>\n",
              "      <td>28</td>\n",
              "      <td>18</td>\n",
              "      <td>3916</td>\n",
              "      <td>31200</td>\n",
              "      <td>65.856</td>\n",
              "      <td>42.336</td>\n",
              "    </tr>\n",
              "    <tr>\n",
              "      <th>6</th>\n",
              "      <td>BMW</td>\n",
              "      <td>1 Series</td>\n",
              "      <td>2012</td>\n",
              "      <td>premium unleaded (required)</td>\n",
              "      <td>300.0</td>\n",
              "      <td>6.0</td>\n",
              "      <td>MANUAL</td>\n",
              "      <td>rear wheel drive</td>\n",
              "      <td>2.0</td>\n",
              "      <td>Luxury,Performance</td>\n",
              "      <td>Compact</td>\n",
              "      <td>Convertible</td>\n",
              "      <td>26</td>\n",
              "      <td>17</td>\n",
              "      <td>3916</td>\n",
              "      <td>44100</td>\n",
              "      <td>61.152</td>\n",
              "      <td>39.984</td>\n",
              "    </tr>\n",
              "    <tr>\n",
              "      <th>7</th>\n",
              "      <td>BMW</td>\n",
              "      <td>1 Series</td>\n",
              "      <td>2012</td>\n",
              "      <td>premium unleaded (required)</td>\n",
              "      <td>300.0</td>\n",
              "      <td>6.0</td>\n",
              "      <td>MANUAL</td>\n",
              "      <td>rear wheel drive</td>\n",
              "      <td>2.0</td>\n",
              "      <td>Luxury,High-Performance</td>\n",
              "      <td>Compact</td>\n",
              "      <td>Coupe</td>\n",
              "      <td>28</td>\n",
              "      <td>20</td>\n",
              "      <td>3916</td>\n",
              "      <td>39300</td>\n",
              "      <td>65.856</td>\n",
              "      <td>47.040</td>\n",
              "    </tr>\n",
              "    <tr>\n",
              "      <th>8</th>\n",
              "      <td>BMW</td>\n",
              "      <td>1 Series</td>\n",
              "      <td>2012</td>\n",
              "      <td>premium unleaded (required)</td>\n",
              "      <td>230.0</td>\n",
              "      <td>6.0</td>\n",
              "      <td>MANUAL</td>\n",
              "      <td>rear wheel drive</td>\n",
              "      <td>2.0</td>\n",
              "      <td>Luxury</td>\n",
              "      <td>Compact</td>\n",
              "      <td>Convertible</td>\n",
              "      <td>28</td>\n",
              "      <td>18</td>\n",
              "      <td>3916</td>\n",
              "      <td>36900</td>\n",
              "      <td>65.856</td>\n",
              "      <td>42.336</td>\n",
              "    </tr>\n",
              "    <tr>\n",
              "      <th>9</th>\n",
              "      <td>BMW</td>\n",
              "      <td>1 Series</td>\n",
              "      <td>2013</td>\n",
              "      <td>premium unleaded (required)</td>\n",
              "      <td>230.0</td>\n",
              "      <td>6.0</td>\n",
              "      <td>MANUAL</td>\n",
              "      <td>rear wheel drive</td>\n",
              "      <td>2.0</td>\n",
              "      <td>Luxury</td>\n",
              "      <td>Compact</td>\n",
              "      <td>Convertible</td>\n",
              "      <td>27</td>\n",
              "      <td>18</td>\n",
              "      <td>3916</td>\n",
              "      <td>37200</td>\n",
              "      <td>63.504</td>\n",
              "      <td>42.336</td>\n",
              "    </tr>\n",
              "  </tbody>\n",
              "</table>\n",
              "</div>"
            ],
            "text/plain": [
              "  Make       Model  Year  ...   MSRP  highway kpl  city kpl\n",
              "0  BMW  1 Series M  2011  ...  46135       61.152    44.688\n",
              "1  BMW    1 Series  2011  ...  40650       65.856    44.688\n",
              "2  BMW    1 Series  2011  ...  36350       65.856    47.040\n",
              "3  BMW    1 Series  2011  ...  29450       65.856    42.336\n",
              "4  BMW    1 Series  2011  ...  34500       65.856    42.336\n",
              "5  BMW    1 Series  2012  ...  31200       65.856    42.336\n",
              "6  BMW    1 Series  2012  ...  44100       61.152    39.984\n",
              "7  BMW    1 Series  2012  ...  39300       65.856    47.040\n",
              "8  BMW    1 Series  2012  ...  36900       65.856    42.336\n",
              "9  BMW    1 Series  2013  ...  37200       63.504    42.336\n",
              "\n",
              "[10 rows x 18 columns]"
            ]
          },
          "metadata": {
            "tags": []
          },
          "execution_count": 113
        }
      ]
    },
    {
      "cell_type": "code",
      "metadata": {
        "id": "p5SjDQTdgbq-",
        "outputId": "3314b449-12d8-47a1-c673-23e3ec2fa09c",
        "colab": {
          "base_uri": "https://localhost:8080/",
          "height": 716
        }
      },
      "source": [
        "df.tail(10)"
      ],
      "execution_count": 62,
      "outputs": [
        {
          "output_type": "execute_result",
          "data": {
            "text/html": [
              "<div>\n",
              "<style scoped>\n",
              "    .dataframe tbody tr th:only-of-type {\n",
              "        vertical-align: middle;\n",
              "    }\n",
              "\n",
              "    .dataframe tbody tr th {\n",
              "        vertical-align: top;\n",
              "    }\n",
              "\n",
              "    .dataframe thead th {\n",
              "        text-align: right;\n",
              "    }\n",
              "</style>\n",
              "<table border=\"1\" class=\"dataframe\">\n",
              "  <thead>\n",
              "    <tr style=\"text-align: right;\">\n",
              "      <th></th>\n",
              "      <th>Make</th>\n",
              "      <th>Model</th>\n",
              "      <th>Year</th>\n",
              "      <th>Engine Fuel Type</th>\n",
              "      <th>Engine HP</th>\n",
              "      <th>Engine Cylinders</th>\n",
              "      <th>Transmission Type</th>\n",
              "      <th>Driven_Wheels</th>\n",
              "      <th>Number of Doors</th>\n",
              "      <th>Market Category</th>\n",
              "      <th>Vehicle Size</th>\n",
              "      <th>Vehicle Style</th>\n",
              "      <th>highway MPG</th>\n",
              "      <th>city mpg</th>\n",
              "      <th>Popularity</th>\n",
              "      <th>MSRP</th>\n",
              "      <th>highway kpl</th>\n",
              "      <th>city kpl</th>\n",
              "    </tr>\n",
              "  </thead>\n",
              "  <tbody>\n",
              "    <tr>\n",
              "      <th>11904</th>\n",
              "      <td>BMW</td>\n",
              "      <td>Z8</td>\n",
              "      <td>2002</td>\n",
              "      <td>premium unleaded (required)</td>\n",
              "      <td>394.0</td>\n",
              "      <td>8.0</td>\n",
              "      <td>MANUAL</td>\n",
              "      <td>rear wheel drive</td>\n",
              "      <td>2.0</td>\n",
              "      <td>Exotic,Luxury,High-Performance</td>\n",
              "      <td>Compact</td>\n",
              "      <td>Convertible</td>\n",
              "      <td>19</td>\n",
              "      <td>12</td>\n",
              "      <td>3916</td>\n",
              "      <td>130000</td>\n",
              "      <td>44.688</td>\n",
              "      <td>28.224</td>\n",
              "    </tr>\n",
              "    <tr>\n",
              "      <th>11905</th>\n",
              "      <td>BMW</td>\n",
              "      <td>Z8</td>\n",
              "      <td>2003</td>\n",
              "      <td>premium unleaded (required)</td>\n",
              "      <td>394.0</td>\n",
              "      <td>8.0</td>\n",
              "      <td>MANUAL</td>\n",
              "      <td>rear wheel drive</td>\n",
              "      <td>2.0</td>\n",
              "      <td>Exotic,Luxury,High-Performance</td>\n",
              "      <td>Compact</td>\n",
              "      <td>Convertible</td>\n",
              "      <td>19</td>\n",
              "      <td>12</td>\n",
              "      <td>3916</td>\n",
              "      <td>131500</td>\n",
              "      <td>44.688</td>\n",
              "      <td>28.224</td>\n",
              "    </tr>\n",
              "    <tr>\n",
              "      <th>11906</th>\n",
              "      <td>Acura</td>\n",
              "      <td>ZDX</td>\n",
              "      <td>2011</td>\n",
              "      <td>premium unleaded (required)</td>\n",
              "      <td>300.0</td>\n",
              "      <td>6.0</td>\n",
              "      <td>AUTOMATIC</td>\n",
              "      <td>all wheel drive</td>\n",
              "      <td>4.0</td>\n",
              "      <td>Crossover,Hatchback,Luxury</td>\n",
              "      <td>Midsize</td>\n",
              "      <td>4dr Hatchback</td>\n",
              "      <td>23</td>\n",
              "      <td>16</td>\n",
              "      <td>204</td>\n",
              "      <td>46020</td>\n",
              "      <td>54.096</td>\n",
              "      <td>37.632</td>\n",
              "    </tr>\n",
              "    <tr>\n",
              "      <th>11907</th>\n",
              "      <td>Acura</td>\n",
              "      <td>ZDX</td>\n",
              "      <td>2011</td>\n",
              "      <td>premium unleaded (required)</td>\n",
              "      <td>300.0</td>\n",
              "      <td>6.0</td>\n",
              "      <td>AUTOMATIC</td>\n",
              "      <td>all wheel drive</td>\n",
              "      <td>4.0</td>\n",
              "      <td>Crossover,Hatchback,Luxury</td>\n",
              "      <td>Midsize</td>\n",
              "      <td>4dr Hatchback</td>\n",
              "      <td>23</td>\n",
              "      <td>16</td>\n",
              "      <td>204</td>\n",
              "      <td>56570</td>\n",
              "      <td>54.096</td>\n",
              "      <td>37.632</td>\n",
              "    </tr>\n",
              "    <tr>\n",
              "      <th>11908</th>\n",
              "      <td>Acura</td>\n",
              "      <td>ZDX</td>\n",
              "      <td>2011</td>\n",
              "      <td>premium unleaded (required)</td>\n",
              "      <td>300.0</td>\n",
              "      <td>6.0</td>\n",
              "      <td>AUTOMATIC</td>\n",
              "      <td>all wheel drive</td>\n",
              "      <td>4.0</td>\n",
              "      <td>Crossover,Hatchback,Luxury</td>\n",
              "      <td>Midsize</td>\n",
              "      <td>4dr Hatchback</td>\n",
              "      <td>23</td>\n",
              "      <td>16</td>\n",
              "      <td>204</td>\n",
              "      <td>50520</td>\n",
              "      <td>54.096</td>\n",
              "      <td>37.632</td>\n",
              "    </tr>\n",
              "    <tr>\n",
              "      <th>11909</th>\n",
              "      <td>Acura</td>\n",
              "      <td>ZDX</td>\n",
              "      <td>2012</td>\n",
              "      <td>premium unleaded (required)</td>\n",
              "      <td>300.0</td>\n",
              "      <td>6.0</td>\n",
              "      <td>AUTOMATIC</td>\n",
              "      <td>all wheel drive</td>\n",
              "      <td>4.0</td>\n",
              "      <td>Crossover,Hatchback,Luxury</td>\n",
              "      <td>Midsize</td>\n",
              "      <td>4dr Hatchback</td>\n",
              "      <td>23</td>\n",
              "      <td>16</td>\n",
              "      <td>204</td>\n",
              "      <td>46120</td>\n",
              "      <td>54.096</td>\n",
              "      <td>37.632</td>\n",
              "    </tr>\n",
              "    <tr>\n",
              "      <th>11910</th>\n",
              "      <td>Acura</td>\n",
              "      <td>ZDX</td>\n",
              "      <td>2012</td>\n",
              "      <td>premium unleaded (required)</td>\n",
              "      <td>300.0</td>\n",
              "      <td>6.0</td>\n",
              "      <td>AUTOMATIC</td>\n",
              "      <td>all wheel drive</td>\n",
              "      <td>4.0</td>\n",
              "      <td>Crossover,Hatchback,Luxury</td>\n",
              "      <td>Midsize</td>\n",
              "      <td>4dr Hatchback</td>\n",
              "      <td>23</td>\n",
              "      <td>16</td>\n",
              "      <td>204</td>\n",
              "      <td>56670</td>\n",
              "      <td>54.096</td>\n",
              "      <td>37.632</td>\n",
              "    </tr>\n",
              "    <tr>\n",
              "      <th>11911</th>\n",
              "      <td>Acura</td>\n",
              "      <td>ZDX</td>\n",
              "      <td>2012</td>\n",
              "      <td>premium unleaded (required)</td>\n",
              "      <td>300.0</td>\n",
              "      <td>6.0</td>\n",
              "      <td>AUTOMATIC</td>\n",
              "      <td>all wheel drive</td>\n",
              "      <td>4.0</td>\n",
              "      <td>Crossover,Hatchback,Luxury</td>\n",
              "      <td>Midsize</td>\n",
              "      <td>4dr Hatchback</td>\n",
              "      <td>23</td>\n",
              "      <td>16</td>\n",
              "      <td>204</td>\n",
              "      <td>50620</td>\n",
              "      <td>54.096</td>\n",
              "      <td>37.632</td>\n",
              "    </tr>\n",
              "    <tr>\n",
              "      <th>11912</th>\n",
              "      <td>Acura</td>\n",
              "      <td>ZDX</td>\n",
              "      <td>2013</td>\n",
              "      <td>premium unleaded (recommended)</td>\n",
              "      <td>300.0</td>\n",
              "      <td>6.0</td>\n",
              "      <td>AUTOMATIC</td>\n",
              "      <td>all wheel drive</td>\n",
              "      <td>4.0</td>\n",
              "      <td>Crossover,Hatchback,Luxury</td>\n",
              "      <td>Midsize</td>\n",
              "      <td>4dr Hatchback</td>\n",
              "      <td>23</td>\n",
              "      <td>16</td>\n",
              "      <td>204</td>\n",
              "      <td>50920</td>\n",
              "      <td>54.096</td>\n",
              "      <td>37.632</td>\n",
              "    </tr>\n",
              "    <tr>\n",
              "      <th>11913</th>\n",
              "      <td>Lincoln</td>\n",
              "      <td>Zephyr</td>\n",
              "      <td>2006</td>\n",
              "      <td>regular unleaded</td>\n",
              "      <td>221.0</td>\n",
              "      <td>6.0</td>\n",
              "      <td>AUTOMATIC</td>\n",
              "      <td>front wheel drive</td>\n",
              "      <td>4.0</td>\n",
              "      <td>Luxury</td>\n",
              "      <td>Midsize</td>\n",
              "      <td>Sedan</td>\n",
              "      <td>26</td>\n",
              "      <td>17</td>\n",
              "      <td>61</td>\n",
              "      <td>28995</td>\n",
              "      <td>61.152</td>\n",
              "      <td>39.984</td>\n",
              "    </tr>\n",
              "  </tbody>\n",
              "</table>\n",
              "</div>"
            ],
            "text/plain": [
              "          Make   Model  Year  ...    MSRP  highway kpl  city kpl\n",
              "11904      BMW      Z8  2002  ...  130000       44.688    28.224\n",
              "11905      BMW      Z8  2003  ...  131500       44.688    28.224\n",
              "11906    Acura     ZDX  2011  ...   46020       54.096    37.632\n",
              "11907    Acura     ZDX  2011  ...   56570       54.096    37.632\n",
              "11908    Acura     ZDX  2011  ...   50520       54.096    37.632\n",
              "11909    Acura     ZDX  2012  ...   46120       54.096    37.632\n",
              "11910    Acura     ZDX  2012  ...   56670       54.096    37.632\n",
              "11911    Acura     ZDX  2012  ...   50620       54.096    37.632\n",
              "11912    Acura     ZDX  2013  ...   50920       54.096    37.632\n",
              "11913  Lincoln  Zephyr  2006  ...   28995       61.152    39.984\n",
              "\n",
              "[10 rows x 18 columns]"
            ]
          },
          "metadata": {
            "tags": []
          },
          "execution_count": 62
        }
      ]
    },
    {
      "cell_type": "code",
      "metadata": {
        "id": "tz0ZT9ILe1na",
        "outputId": "93e4be06-97cd-4ec8-8a21-3ce684589279",
        "colab": {
          "base_uri": "https://localhost:8080/",
          "height": 336
        }
      },
      "source": [
        "df.dtypes"
      ],
      "execution_count": 30,
      "outputs": [
        {
          "output_type": "execute_result",
          "data": {
            "text/plain": [
              "Make                  object\n",
              "Model                 object\n",
              "Year                   int64\n",
              "Engine Fuel Type      object\n",
              "Engine HP            float64\n",
              "Engine Cylinders     float64\n",
              "Transmission Type     object\n",
              "Driven_Wheels         object\n",
              "Number of Doors      float64\n",
              "Market Category       object\n",
              "Vehicle Size          object\n",
              "Vehicle Style         object\n",
              "highway MPG            int64\n",
              "city mpg               int64\n",
              "Popularity             int64\n",
              "MSRP                   int64\n",
              "highway kpl          float64\n",
              "city kpl             float64\n",
              "dtype: object"
            ]
          },
          "metadata": {
            "tags": []
          },
          "execution_count": 30
        }
      ]
    },
    {
      "cell_type": "code",
      "metadata": {
        "id": "1oGeIq3YfVsd",
        "outputId": "38adcecf-ad28-4afb-a2f2-e4da651c7278",
        "colab": {
          "base_uri": "https://localhost:8080/",
          "height": 34
        }
      },
      "source": [
        "len(df)"
      ],
      "execution_count": 63,
      "outputs": [
        {
          "output_type": "execute_result",
          "data": {
            "text/plain": [
              "11914"
            ]
          },
          "metadata": {
            "tags": []
          },
          "execution_count": 63
        }
      ]
    },
    {
      "cell_type": "code",
      "metadata": {
        "id": "3oLv4EHkfalZ",
        "outputId": "cad1da2f-a050-4df4-85dd-9ced47d7b6df",
        "colab": {
          "base_uri": "https://localhost:8080/",
          "height": 443
        }
      },
      "source": [
        "df.describe(include='all')"
      ],
      "execution_count": 64,
      "outputs": [
        {
          "output_type": "execute_result",
          "data": {
            "text/html": [
              "<div>\n",
              "<style scoped>\n",
              "    .dataframe tbody tr th:only-of-type {\n",
              "        vertical-align: middle;\n",
              "    }\n",
              "\n",
              "    .dataframe tbody tr th {\n",
              "        vertical-align: top;\n",
              "    }\n",
              "\n",
              "    .dataframe thead th {\n",
              "        text-align: right;\n",
              "    }\n",
              "</style>\n",
              "<table border=\"1\" class=\"dataframe\">\n",
              "  <thead>\n",
              "    <tr style=\"text-align: right;\">\n",
              "      <th></th>\n",
              "      <th>Make</th>\n",
              "      <th>Model</th>\n",
              "      <th>Year</th>\n",
              "      <th>Engine Fuel Type</th>\n",
              "      <th>Engine HP</th>\n",
              "      <th>Engine Cylinders</th>\n",
              "      <th>Transmission Type</th>\n",
              "      <th>Driven_Wheels</th>\n",
              "      <th>Number of Doors</th>\n",
              "      <th>Market Category</th>\n",
              "      <th>Vehicle Size</th>\n",
              "      <th>Vehicle Style</th>\n",
              "      <th>highway MPG</th>\n",
              "      <th>city mpg</th>\n",
              "      <th>Popularity</th>\n",
              "      <th>MSRP</th>\n",
              "      <th>highway kpl</th>\n",
              "      <th>city kpl</th>\n",
              "    </tr>\n",
              "  </thead>\n",
              "  <tbody>\n",
              "    <tr>\n",
              "      <th>count</th>\n",
              "      <td>11914</td>\n",
              "      <td>11914</td>\n",
              "      <td>11914.000000</td>\n",
              "      <td>11911</td>\n",
              "      <td>11845.00000</td>\n",
              "      <td>11884.000000</td>\n",
              "      <td>11914</td>\n",
              "      <td>11914</td>\n",
              "      <td>11908.000000</td>\n",
              "      <td>8172</td>\n",
              "      <td>11914</td>\n",
              "      <td>11914</td>\n",
              "      <td>11914.000000</td>\n",
              "      <td>11914.000000</td>\n",
              "      <td>11914.000000</td>\n",
              "      <td>1.191400e+04</td>\n",
              "      <td>11914.000000</td>\n",
              "      <td>11914.000000</td>\n",
              "    </tr>\n",
              "    <tr>\n",
              "      <th>unique</th>\n",
              "      <td>48</td>\n",
              "      <td>915</td>\n",
              "      <td>NaN</td>\n",
              "      <td>10</td>\n",
              "      <td>NaN</td>\n",
              "      <td>NaN</td>\n",
              "      <td>5</td>\n",
              "      <td>4</td>\n",
              "      <td>NaN</td>\n",
              "      <td>71</td>\n",
              "      <td>3</td>\n",
              "      <td>16</td>\n",
              "      <td>NaN</td>\n",
              "      <td>NaN</td>\n",
              "      <td>NaN</td>\n",
              "      <td>NaN</td>\n",
              "      <td>NaN</td>\n",
              "      <td>NaN</td>\n",
              "    </tr>\n",
              "    <tr>\n",
              "      <th>top</th>\n",
              "      <td>Chevrolet</td>\n",
              "      <td>Silverado 1500</td>\n",
              "      <td>NaN</td>\n",
              "      <td>regular unleaded</td>\n",
              "      <td>NaN</td>\n",
              "      <td>NaN</td>\n",
              "      <td>AUTOMATIC</td>\n",
              "      <td>front wheel drive</td>\n",
              "      <td>NaN</td>\n",
              "      <td>Crossover</td>\n",
              "      <td>Compact</td>\n",
              "      <td>Sedan</td>\n",
              "      <td>NaN</td>\n",
              "      <td>NaN</td>\n",
              "      <td>NaN</td>\n",
              "      <td>NaN</td>\n",
              "      <td>NaN</td>\n",
              "      <td>NaN</td>\n",
              "    </tr>\n",
              "    <tr>\n",
              "      <th>freq</th>\n",
              "      <td>1123</td>\n",
              "      <td>156</td>\n",
              "      <td>NaN</td>\n",
              "      <td>7172</td>\n",
              "      <td>NaN</td>\n",
              "      <td>NaN</td>\n",
              "      <td>8266</td>\n",
              "      <td>4787</td>\n",
              "      <td>NaN</td>\n",
              "      <td>1110</td>\n",
              "      <td>4764</td>\n",
              "      <td>3048</td>\n",
              "      <td>NaN</td>\n",
              "      <td>NaN</td>\n",
              "      <td>NaN</td>\n",
              "      <td>NaN</td>\n",
              "      <td>NaN</td>\n",
              "      <td>NaN</td>\n",
              "    </tr>\n",
              "    <tr>\n",
              "      <th>mean</th>\n",
              "      <td>NaN</td>\n",
              "      <td>NaN</td>\n",
              "      <td>2010.384338</td>\n",
              "      <td>NaN</td>\n",
              "      <td>249.38607</td>\n",
              "      <td>5.628829</td>\n",
              "      <td>NaN</td>\n",
              "      <td>NaN</td>\n",
              "      <td>3.436093</td>\n",
              "      <td>NaN</td>\n",
              "      <td>NaN</td>\n",
              "      <td>NaN</td>\n",
              "      <td>26.637485</td>\n",
              "      <td>19.733255</td>\n",
              "      <td>1554.911197</td>\n",
              "      <td>4.059474e+04</td>\n",
              "      <td>62.651365</td>\n",
              "      <td>46.412616</td>\n",
              "    </tr>\n",
              "    <tr>\n",
              "      <th>std</th>\n",
              "      <td>NaN</td>\n",
              "      <td>NaN</td>\n",
              "      <td>7.579740</td>\n",
              "      <td>NaN</td>\n",
              "      <td>109.19187</td>\n",
              "      <td>1.780559</td>\n",
              "      <td>NaN</td>\n",
              "      <td>NaN</td>\n",
              "      <td>0.881315</td>\n",
              "      <td>NaN</td>\n",
              "      <td>NaN</td>\n",
              "      <td>NaN</td>\n",
              "      <td>8.863001</td>\n",
              "      <td>8.987798</td>\n",
              "      <td>1441.855347</td>\n",
              "      <td>6.010910e+04</td>\n",
              "      <td>20.845778</td>\n",
              "      <td>21.139301</td>\n",
              "    </tr>\n",
              "    <tr>\n",
              "      <th>min</th>\n",
              "      <td>NaN</td>\n",
              "      <td>NaN</td>\n",
              "      <td>1990.000000</td>\n",
              "      <td>NaN</td>\n",
              "      <td>55.00000</td>\n",
              "      <td>0.000000</td>\n",
              "      <td>NaN</td>\n",
              "      <td>NaN</td>\n",
              "      <td>2.000000</td>\n",
              "      <td>NaN</td>\n",
              "      <td>NaN</td>\n",
              "      <td>NaN</td>\n",
              "      <td>12.000000</td>\n",
              "      <td>7.000000</td>\n",
              "      <td>2.000000</td>\n",
              "      <td>2.000000e+03</td>\n",
              "      <td>28.224000</td>\n",
              "      <td>16.464000</td>\n",
              "    </tr>\n",
              "    <tr>\n",
              "      <th>25%</th>\n",
              "      <td>NaN</td>\n",
              "      <td>NaN</td>\n",
              "      <td>2007.000000</td>\n",
              "      <td>NaN</td>\n",
              "      <td>170.00000</td>\n",
              "      <td>4.000000</td>\n",
              "      <td>NaN</td>\n",
              "      <td>NaN</td>\n",
              "      <td>2.000000</td>\n",
              "      <td>NaN</td>\n",
              "      <td>NaN</td>\n",
              "      <td>NaN</td>\n",
              "      <td>22.000000</td>\n",
              "      <td>16.000000</td>\n",
              "      <td>549.000000</td>\n",
              "      <td>2.100000e+04</td>\n",
              "      <td>51.744000</td>\n",
              "      <td>37.632000</td>\n",
              "    </tr>\n",
              "    <tr>\n",
              "      <th>50%</th>\n",
              "      <td>NaN</td>\n",
              "      <td>NaN</td>\n",
              "      <td>2015.000000</td>\n",
              "      <td>NaN</td>\n",
              "      <td>227.00000</td>\n",
              "      <td>6.000000</td>\n",
              "      <td>NaN</td>\n",
              "      <td>NaN</td>\n",
              "      <td>4.000000</td>\n",
              "      <td>NaN</td>\n",
              "      <td>NaN</td>\n",
              "      <td>NaN</td>\n",
              "      <td>26.000000</td>\n",
              "      <td>18.000000</td>\n",
              "      <td>1385.000000</td>\n",
              "      <td>2.999500e+04</td>\n",
              "      <td>61.152000</td>\n",
              "      <td>42.336000</td>\n",
              "    </tr>\n",
              "    <tr>\n",
              "      <th>75%</th>\n",
              "      <td>NaN</td>\n",
              "      <td>NaN</td>\n",
              "      <td>2016.000000</td>\n",
              "      <td>NaN</td>\n",
              "      <td>300.00000</td>\n",
              "      <td>6.000000</td>\n",
              "      <td>NaN</td>\n",
              "      <td>NaN</td>\n",
              "      <td>4.000000</td>\n",
              "      <td>NaN</td>\n",
              "      <td>NaN</td>\n",
              "      <td>NaN</td>\n",
              "      <td>30.000000</td>\n",
              "      <td>22.000000</td>\n",
              "      <td>2009.000000</td>\n",
              "      <td>4.223125e+04</td>\n",
              "      <td>70.560000</td>\n",
              "      <td>51.744000</td>\n",
              "    </tr>\n",
              "    <tr>\n",
              "      <th>max</th>\n",
              "      <td>NaN</td>\n",
              "      <td>NaN</td>\n",
              "      <td>2017.000000</td>\n",
              "      <td>NaN</td>\n",
              "      <td>1001.00000</td>\n",
              "      <td>16.000000</td>\n",
              "      <td>NaN</td>\n",
              "      <td>NaN</td>\n",
              "      <td>4.000000</td>\n",
              "      <td>NaN</td>\n",
              "      <td>NaN</td>\n",
              "      <td>NaN</td>\n",
              "      <td>354.000000</td>\n",
              "      <td>137.000000</td>\n",
              "      <td>5657.000000</td>\n",
              "      <td>2.065902e+06</td>\n",
              "      <td>832.608000</td>\n",
              "      <td>322.224000</td>\n",
              "    </tr>\n",
              "  </tbody>\n",
              "</table>\n",
              "</div>"
            ],
            "text/plain": [
              "             Make           Model  ...   highway kpl      city kpl\n",
              "count       11914           11914  ...  11914.000000  11914.000000\n",
              "unique         48             915  ...           NaN           NaN\n",
              "top     Chevrolet  Silverado 1500  ...           NaN           NaN\n",
              "freq         1123             156  ...           NaN           NaN\n",
              "mean          NaN             NaN  ...     62.651365     46.412616\n",
              "std           NaN             NaN  ...     20.845778     21.139301\n",
              "min           NaN             NaN  ...     28.224000     16.464000\n",
              "25%           NaN             NaN  ...     51.744000     37.632000\n",
              "50%           NaN             NaN  ...     61.152000     42.336000\n",
              "75%           NaN             NaN  ...     70.560000     51.744000\n",
              "max           NaN             NaN  ...    832.608000    322.224000\n",
              "\n",
              "[11 rows x 18 columns]"
            ]
          },
          "metadata": {
            "tags": []
          },
          "execution_count": 64
        }
      ]
    },
    {
      "cell_type": "code",
      "metadata": {
        "id": "k1fzSMYWg2TK",
        "outputId": "93b1e34b-4860-4881-c0e1-e0a921efe630",
        "colab": {
          "base_uri": "https://localhost:8080/",
          "height": 545
        }
      },
      "source": [
        "#terdapat kolom yang tidak diperlukan. drop kolom yang terdapat NaN\n",
        "\n",
        "df = df.drop(['highway kpl','city kpl','Transmission Type','Market Category','Vehicle Style','Number of Doors','Popularity','Vehicle Size','Engine Fuel Type'], axis=1)\n",
        "\n",
        "df.head(10) "
      ],
      "execution_count": 114,
      "outputs": [
        {
          "output_type": "execute_result",
          "data": {
            "text/html": [
              "<div>\n",
              "<style scoped>\n",
              "    .dataframe tbody tr th:only-of-type {\n",
              "        vertical-align: middle;\n",
              "    }\n",
              "\n",
              "    .dataframe tbody tr th {\n",
              "        vertical-align: top;\n",
              "    }\n",
              "\n",
              "    .dataframe thead th {\n",
              "        text-align: right;\n",
              "    }\n",
              "</style>\n",
              "<table border=\"1\" class=\"dataframe\">\n",
              "  <thead>\n",
              "    <tr style=\"text-align: right;\">\n",
              "      <th></th>\n",
              "      <th>Make</th>\n",
              "      <th>Model</th>\n",
              "      <th>Year</th>\n",
              "      <th>Engine HP</th>\n",
              "      <th>Engine Cylinders</th>\n",
              "      <th>Driven_Wheels</th>\n",
              "      <th>highway MPG</th>\n",
              "      <th>city mpg</th>\n",
              "      <th>MSRP</th>\n",
              "    </tr>\n",
              "  </thead>\n",
              "  <tbody>\n",
              "    <tr>\n",
              "      <th>0</th>\n",
              "      <td>BMW</td>\n",
              "      <td>1 Series M</td>\n",
              "      <td>2011</td>\n",
              "      <td>335.0</td>\n",
              "      <td>6.0</td>\n",
              "      <td>rear wheel drive</td>\n",
              "      <td>26</td>\n",
              "      <td>19</td>\n",
              "      <td>46135</td>\n",
              "    </tr>\n",
              "    <tr>\n",
              "      <th>1</th>\n",
              "      <td>BMW</td>\n",
              "      <td>1 Series</td>\n",
              "      <td>2011</td>\n",
              "      <td>300.0</td>\n",
              "      <td>6.0</td>\n",
              "      <td>rear wheel drive</td>\n",
              "      <td>28</td>\n",
              "      <td>19</td>\n",
              "      <td>40650</td>\n",
              "    </tr>\n",
              "    <tr>\n",
              "      <th>2</th>\n",
              "      <td>BMW</td>\n",
              "      <td>1 Series</td>\n",
              "      <td>2011</td>\n",
              "      <td>300.0</td>\n",
              "      <td>6.0</td>\n",
              "      <td>rear wheel drive</td>\n",
              "      <td>28</td>\n",
              "      <td>20</td>\n",
              "      <td>36350</td>\n",
              "    </tr>\n",
              "    <tr>\n",
              "      <th>3</th>\n",
              "      <td>BMW</td>\n",
              "      <td>1 Series</td>\n",
              "      <td>2011</td>\n",
              "      <td>230.0</td>\n",
              "      <td>6.0</td>\n",
              "      <td>rear wheel drive</td>\n",
              "      <td>28</td>\n",
              "      <td>18</td>\n",
              "      <td>29450</td>\n",
              "    </tr>\n",
              "    <tr>\n",
              "      <th>4</th>\n",
              "      <td>BMW</td>\n",
              "      <td>1 Series</td>\n",
              "      <td>2011</td>\n",
              "      <td>230.0</td>\n",
              "      <td>6.0</td>\n",
              "      <td>rear wheel drive</td>\n",
              "      <td>28</td>\n",
              "      <td>18</td>\n",
              "      <td>34500</td>\n",
              "    </tr>\n",
              "    <tr>\n",
              "      <th>5</th>\n",
              "      <td>BMW</td>\n",
              "      <td>1 Series</td>\n",
              "      <td>2012</td>\n",
              "      <td>230.0</td>\n",
              "      <td>6.0</td>\n",
              "      <td>rear wheel drive</td>\n",
              "      <td>28</td>\n",
              "      <td>18</td>\n",
              "      <td>31200</td>\n",
              "    </tr>\n",
              "    <tr>\n",
              "      <th>6</th>\n",
              "      <td>BMW</td>\n",
              "      <td>1 Series</td>\n",
              "      <td>2012</td>\n",
              "      <td>300.0</td>\n",
              "      <td>6.0</td>\n",
              "      <td>rear wheel drive</td>\n",
              "      <td>26</td>\n",
              "      <td>17</td>\n",
              "      <td>44100</td>\n",
              "    </tr>\n",
              "    <tr>\n",
              "      <th>7</th>\n",
              "      <td>BMW</td>\n",
              "      <td>1 Series</td>\n",
              "      <td>2012</td>\n",
              "      <td>300.0</td>\n",
              "      <td>6.0</td>\n",
              "      <td>rear wheel drive</td>\n",
              "      <td>28</td>\n",
              "      <td>20</td>\n",
              "      <td>39300</td>\n",
              "    </tr>\n",
              "    <tr>\n",
              "      <th>8</th>\n",
              "      <td>BMW</td>\n",
              "      <td>1 Series</td>\n",
              "      <td>2012</td>\n",
              "      <td>230.0</td>\n",
              "      <td>6.0</td>\n",
              "      <td>rear wheel drive</td>\n",
              "      <td>28</td>\n",
              "      <td>18</td>\n",
              "      <td>36900</td>\n",
              "    </tr>\n",
              "    <tr>\n",
              "      <th>9</th>\n",
              "      <td>BMW</td>\n",
              "      <td>1 Series</td>\n",
              "      <td>2013</td>\n",
              "      <td>230.0</td>\n",
              "      <td>6.0</td>\n",
              "      <td>rear wheel drive</td>\n",
              "      <td>27</td>\n",
              "      <td>18</td>\n",
              "      <td>37200</td>\n",
              "    </tr>\n",
              "  </tbody>\n",
              "</table>\n",
              "</div>"
            ],
            "text/plain": [
              "  Make       Model  Year  ...  highway MPG  city mpg   MSRP\n",
              "0  BMW  1 Series M  2011  ...           26        19  46135\n",
              "1  BMW    1 Series  2011  ...           28        19  40650\n",
              "2  BMW    1 Series  2011  ...           28        20  36350\n",
              "3  BMW    1 Series  2011  ...           28        18  29450\n",
              "4  BMW    1 Series  2011  ...           28        18  34500\n",
              "5  BMW    1 Series  2012  ...           28        18  31200\n",
              "6  BMW    1 Series  2012  ...           26        17  44100\n",
              "7  BMW    1 Series  2012  ...           28        20  39300\n",
              "8  BMW    1 Series  2012  ...           28        18  36900\n",
              "9  BMW    1 Series  2013  ...           27        18  37200\n",
              "\n",
              "[10 rows x 9 columns]"
            ]
          },
          "metadata": {
            "tags": []
          },
          "execution_count": 114
        }
      ]
    },
    {
      "cell_type": "code",
      "metadata": {
        "id": "Ddlu94KSkHbm",
        "outputId": "21e43077-8a13-4181-be78-e9d3d774aa97",
        "colab": {
          "base_uri": "https://localhost:8080/",
          "height": 377
        }
      },
      "source": [
        "#mengganti nama kolom agar lebih mudah dimengerti\n",
        "df = df.rename(columns={\"Engine HP\": \"HP\", \"highway MPG\": \"MPG-H\", \"city mpg\": \"MPG-C\", \"MSRP\": \"Price\" })\n",
        "df.head(10)"
      ],
      "execution_count": 115,
      "outputs": [
        {
          "output_type": "execute_result",
          "data": {
            "text/html": [
              "<div>\n",
              "<style scoped>\n",
              "    .dataframe tbody tr th:only-of-type {\n",
              "        vertical-align: middle;\n",
              "    }\n",
              "\n",
              "    .dataframe tbody tr th {\n",
              "        vertical-align: top;\n",
              "    }\n",
              "\n",
              "    .dataframe thead th {\n",
              "        text-align: right;\n",
              "    }\n",
              "</style>\n",
              "<table border=\"1\" class=\"dataframe\">\n",
              "  <thead>\n",
              "    <tr style=\"text-align: right;\">\n",
              "      <th></th>\n",
              "      <th>Make</th>\n",
              "      <th>Model</th>\n",
              "      <th>Year</th>\n",
              "      <th>HP</th>\n",
              "      <th>Engine Cylinders</th>\n",
              "      <th>Driven_Wheels</th>\n",
              "      <th>MPG-H</th>\n",
              "      <th>MPG-C</th>\n",
              "      <th>Price</th>\n",
              "    </tr>\n",
              "  </thead>\n",
              "  <tbody>\n",
              "    <tr>\n",
              "      <th>0</th>\n",
              "      <td>BMW</td>\n",
              "      <td>1 Series M</td>\n",
              "      <td>2011</td>\n",
              "      <td>335.0</td>\n",
              "      <td>6.0</td>\n",
              "      <td>rear wheel drive</td>\n",
              "      <td>26</td>\n",
              "      <td>19</td>\n",
              "      <td>46135</td>\n",
              "    </tr>\n",
              "    <tr>\n",
              "      <th>1</th>\n",
              "      <td>BMW</td>\n",
              "      <td>1 Series</td>\n",
              "      <td>2011</td>\n",
              "      <td>300.0</td>\n",
              "      <td>6.0</td>\n",
              "      <td>rear wheel drive</td>\n",
              "      <td>28</td>\n",
              "      <td>19</td>\n",
              "      <td>40650</td>\n",
              "    </tr>\n",
              "    <tr>\n",
              "      <th>2</th>\n",
              "      <td>BMW</td>\n",
              "      <td>1 Series</td>\n",
              "      <td>2011</td>\n",
              "      <td>300.0</td>\n",
              "      <td>6.0</td>\n",
              "      <td>rear wheel drive</td>\n",
              "      <td>28</td>\n",
              "      <td>20</td>\n",
              "      <td>36350</td>\n",
              "    </tr>\n",
              "    <tr>\n",
              "      <th>3</th>\n",
              "      <td>BMW</td>\n",
              "      <td>1 Series</td>\n",
              "      <td>2011</td>\n",
              "      <td>230.0</td>\n",
              "      <td>6.0</td>\n",
              "      <td>rear wheel drive</td>\n",
              "      <td>28</td>\n",
              "      <td>18</td>\n",
              "      <td>29450</td>\n",
              "    </tr>\n",
              "    <tr>\n",
              "      <th>4</th>\n",
              "      <td>BMW</td>\n",
              "      <td>1 Series</td>\n",
              "      <td>2011</td>\n",
              "      <td>230.0</td>\n",
              "      <td>6.0</td>\n",
              "      <td>rear wheel drive</td>\n",
              "      <td>28</td>\n",
              "      <td>18</td>\n",
              "      <td>34500</td>\n",
              "    </tr>\n",
              "    <tr>\n",
              "      <th>5</th>\n",
              "      <td>BMW</td>\n",
              "      <td>1 Series</td>\n",
              "      <td>2012</td>\n",
              "      <td>230.0</td>\n",
              "      <td>6.0</td>\n",
              "      <td>rear wheel drive</td>\n",
              "      <td>28</td>\n",
              "      <td>18</td>\n",
              "      <td>31200</td>\n",
              "    </tr>\n",
              "    <tr>\n",
              "      <th>6</th>\n",
              "      <td>BMW</td>\n",
              "      <td>1 Series</td>\n",
              "      <td>2012</td>\n",
              "      <td>300.0</td>\n",
              "      <td>6.0</td>\n",
              "      <td>rear wheel drive</td>\n",
              "      <td>26</td>\n",
              "      <td>17</td>\n",
              "      <td>44100</td>\n",
              "    </tr>\n",
              "    <tr>\n",
              "      <th>7</th>\n",
              "      <td>BMW</td>\n",
              "      <td>1 Series</td>\n",
              "      <td>2012</td>\n",
              "      <td>300.0</td>\n",
              "      <td>6.0</td>\n",
              "      <td>rear wheel drive</td>\n",
              "      <td>28</td>\n",
              "      <td>20</td>\n",
              "      <td>39300</td>\n",
              "    </tr>\n",
              "    <tr>\n",
              "      <th>8</th>\n",
              "      <td>BMW</td>\n",
              "      <td>1 Series</td>\n",
              "      <td>2012</td>\n",
              "      <td>230.0</td>\n",
              "      <td>6.0</td>\n",
              "      <td>rear wheel drive</td>\n",
              "      <td>28</td>\n",
              "      <td>18</td>\n",
              "      <td>36900</td>\n",
              "    </tr>\n",
              "    <tr>\n",
              "      <th>9</th>\n",
              "      <td>BMW</td>\n",
              "      <td>1 Series</td>\n",
              "      <td>2013</td>\n",
              "      <td>230.0</td>\n",
              "      <td>6.0</td>\n",
              "      <td>rear wheel drive</td>\n",
              "      <td>27</td>\n",
              "      <td>18</td>\n",
              "      <td>37200</td>\n",
              "    </tr>\n",
              "  </tbody>\n",
              "</table>\n",
              "</div>"
            ],
            "text/plain": [
              "  Make       Model  Year     HP  ...     Driven_Wheels MPG-H  MPG-C  Price\n",
              "0  BMW  1 Series M  2011  335.0  ...  rear wheel drive    26     19  46135\n",
              "1  BMW    1 Series  2011  300.0  ...  rear wheel drive    28     19  40650\n",
              "2  BMW    1 Series  2011  300.0  ...  rear wheel drive    28     20  36350\n",
              "3  BMW    1 Series  2011  230.0  ...  rear wheel drive    28     18  29450\n",
              "4  BMW    1 Series  2011  230.0  ...  rear wheel drive    28     18  34500\n",
              "5  BMW    1 Series  2012  230.0  ...  rear wheel drive    28     18  31200\n",
              "6  BMW    1 Series  2012  300.0  ...  rear wheel drive    26     17  44100\n",
              "7  BMW    1 Series  2012  300.0  ...  rear wheel drive    28     20  39300\n",
              "8  BMW    1 Series  2012  230.0  ...  rear wheel drive    28     18  36900\n",
              "9  BMW    1 Series  2013  230.0  ...  rear wheel drive    27     18  37200\n",
              "\n",
              "[10 rows x 9 columns]"
            ]
          },
          "metadata": {
            "tags": []
          },
          "execution_count": 115
        }
      ]
    },
    {
      "cell_type": "code",
      "metadata": {
        "id": "Q7Ra5bFAmwfi",
        "outputId": "d86ee90f-f616-42d2-e017-542b13e7970b",
        "colab": {
          "base_uri": "https://localhost:8080/",
          "height": 34
        }
      },
      "source": [
        "df.shape\n",
        "#jumlah baris dan kolom"
      ],
      "execution_count": 116,
      "outputs": [
        {
          "output_type": "execute_result",
          "data": {
            "text/plain": [
              "(11914, 9)"
            ]
          },
          "metadata": {
            "tags": []
          },
          "execution_count": 116
        }
      ]
    },
    {
      "cell_type": "code",
      "metadata": {
        "id": "3Uz8cu6MnR4D",
        "outputId": "571702ec-1f0c-45d4-df92-0c76502c813c",
        "colab": {
          "base_uri": "https://localhost:8080/",
          "height": 34
        }
      },
      "source": [
        "#terdapat baris yg terduplikasi\n",
        "duplicate_rows_df = df[df.duplicated()] \n",
        "\n",
        "print(\"Number of Duplicate Rows: \", duplicate_rows_df.shape)"
      ],
      "execution_count": 74,
      "outputs": [
        {
          "output_type": "stream",
          "text": [
            "Number of Duplicate Rows:  (993, 11)\n"
          ],
          "name": "stdout"
        }
      ]
    },
    {
      "cell_type": "code",
      "metadata": {
        "id": "qeDvRlMulFSW",
        "outputId": "18063561-707e-4c62-90a0-2e55e54007e5",
        "colab": {
          "base_uri": "https://localhost:8080/",
          "height": 377
        }
      },
      "source": [
        "#menghapus baris yg terduplikat\n",
        "df = df.drop_duplicates()\n",
        "df.head(10)"
      ],
      "execution_count": 117,
      "outputs": [
        {
          "output_type": "execute_result",
          "data": {
            "text/html": [
              "<div>\n",
              "<style scoped>\n",
              "    .dataframe tbody tr th:only-of-type {\n",
              "        vertical-align: middle;\n",
              "    }\n",
              "\n",
              "    .dataframe tbody tr th {\n",
              "        vertical-align: top;\n",
              "    }\n",
              "\n",
              "    .dataframe thead th {\n",
              "        text-align: right;\n",
              "    }\n",
              "</style>\n",
              "<table border=\"1\" class=\"dataframe\">\n",
              "  <thead>\n",
              "    <tr style=\"text-align: right;\">\n",
              "      <th></th>\n",
              "      <th>Make</th>\n",
              "      <th>Model</th>\n",
              "      <th>Year</th>\n",
              "      <th>HP</th>\n",
              "      <th>Engine Cylinders</th>\n",
              "      <th>Driven_Wheels</th>\n",
              "      <th>MPG-H</th>\n",
              "      <th>MPG-C</th>\n",
              "      <th>Price</th>\n",
              "    </tr>\n",
              "  </thead>\n",
              "  <tbody>\n",
              "    <tr>\n",
              "      <th>0</th>\n",
              "      <td>BMW</td>\n",
              "      <td>1 Series M</td>\n",
              "      <td>2011</td>\n",
              "      <td>335.0</td>\n",
              "      <td>6.0</td>\n",
              "      <td>rear wheel drive</td>\n",
              "      <td>26</td>\n",
              "      <td>19</td>\n",
              "      <td>46135</td>\n",
              "    </tr>\n",
              "    <tr>\n",
              "      <th>1</th>\n",
              "      <td>BMW</td>\n",
              "      <td>1 Series</td>\n",
              "      <td>2011</td>\n",
              "      <td>300.0</td>\n",
              "      <td>6.0</td>\n",
              "      <td>rear wheel drive</td>\n",
              "      <td>28</td>\n",
              "      <td>19</td>\n",
              "      <td>40650</td>\n",
              "    </tr>\n",
              "    <tr>\n",
              "      <th>2</th>\n",
              "      <td>BMW</td>\n",
              "      <td>1 Series</td>\n",
              "      <td>2011</td>\n",
              "      <td>300.0</td>\n",
              "      <td>6.0</td>\n",
              "      <td>rear wheel drive</td>\n",
              "      <td>28</td>\n",
              "      <td>20</td>\n",
              "      <td>36350</td>\n",
              "    </tr>\n",
              "    <tr>\n",
              "      <th>3</th>\n",
              "      <td>BMW</td>\n",
              "      <td>1 Series</td>\n",
              "      <td>2011</td>\n",
              "      <td>230.0</td>\n",
              "      <td>6.0</td>\n",
              "      <td>rear wheel drive</td>\n",
              "      <td>28</td>\n",
              "      <td>18</td>\n",
              "      <td>29450</td>\n",
              "    </tr>\n",
              "    <tr>\n",
              "      <th>4</th>\n",
              "      <td>BMW</td>\n",
              "      <td>1 Series</td>\n",
              "      <td>2011</td>\n",
              "      <td>230.0</td>\n",
              "      <td>6.0</td>\n",
              "      <td>rear wheel drive</td>\n",
              "      <td>28</td>\n",
              "      <td>18</td>\n",
              "      <td>34500</td>\n",
              "    </tr>\n",
              "    <tr>\n",
              "      <th>5</th>\n",
              "      <td>BMW</td>\n",
              "      <td>1 Series</td>\n",
              "      <td>2012</td>\n",
              "      <td>230.0</td>\n",
              "      <td>6.0</td>\n",
              "      <td>rear wheel drive</td>\n",
              "      <td>28</td>\n",
              "      <td>18</td>\n",
              "      <td>31200</td>\n",
              "    </tr>\n",
              "    <tr>\n",
              "      <th>6</th>\n",
              "      <td>BMW</td>\n",
              "      <td>1 Series</td>\n",
              "      <td>2012</td>\n",
              "      <td>300.0</td>\n",
              "      <td>6.0</td>\n",
              "      <td>rear wheel drive</td>\n",
              "      <td>26</td>\n",
              "      <td>17</td>\n",
              "      <td>44100</td>\n",
              "    </tr>\n",
              "    <tr>\n",
              "      <th>7</th>\n",
              "      <td>BMW</td>\n",
              "      <td>1 Series</td>\n",
              "      <td>2012</td>\n",
              "      <td>300.0</td>\n",
              "      <td>6.0</td>\n",
              "      <td>rear wheel drive</td>\n",
              "      <td>28</td>\n",
              "      <td>20</td>\n",
              "      <td>39300</td>\n",
              "    </tr>\n",
              "    <tr>\n",
              "      <th>8</th>\n",
              "      <td>BMW</td>\n",
              "      <td>1 Series</td>\n",
              "      <td>2012</td>\n",
              "      <td>230.0</td>\n",
              "      <td>6.0</td>\n",
              "      <td>rear wheel drive</td>\n",
              "      <td>28</td>\n",
              "      <td>18</td>\n",
              "      <td>36900</td>\n",
              "    </tr>\n",
              "    <tr>\n",
              "      <th>9</th>\n",
              "      <td>BMW</td>\n",
              "      <td>1 Series</td>\n",
              "      <td>2013</td>\n",
              "      <td>230.0</td>\n",
              "      <td>6.0</td>\n",
              "      <td>rear wheel drive</td>\n",
              "      <td>27</td>\n",
              "      <td>18</td>\n",
              "      <td>37200</td>\n",
              "    </tr>\n",
              "  </tbody>\n",
              "</table>\n",
              "</div>"
            ],
            "text/plain": [
              "  Make       Model  Year     HP  ...     Driven_Wheels MPG-H  MPG-C  Price\n",
              "0  BMW  1 Series M  2011  335.0  ...  rear wheel drive    26     19  46135\n",
              "1  BMW    1 Series  2011  300.0  ...  rear wheel drive    28     19  40650\n",
              "2  BMW    1 Series  2011  300.0  ...  rear wheel drive    28     20  36350\n",
              "3  BMW    1 Series  2011  230.0  ...  rear wheel drive    28     18  29450\n",
              "4  BMW    1 Series  2011  230.0  ...  rear wheel drive    28     18  34500\n",
              "5  BMW    1 Series  2012  230.0  ...  rear wheel drive    28     18  31200\n",
              "6  BMW    1 Series  2012  300.0  ...  rear wheel drive    26     17  44100\n",
              "7  BMW    1 Series  2012  300.0  ...  rear wheel drive    28     20  39300\n",
              "8  BMW    1 Series  2012  230.0  ...  rear wheel drive    28     18  36900\n",
              "9  BMW    1 Series  2013  230.0  ...  rear wheel drive    27     18  37200\n",
              "\n",
              "[10 rows x 9 columns]"
            ]
          },
          "metadata": {
            "tags": []
          },
          "execution_count": 117
        }
      ]
    },
    {
      "cell_type": "code",
      "metadata": {
        "id": "UMQ7RI5Qo9Kt",
        "outputId": "deb2d5af-bb53-421d-c549-97306a3ce770",
        "colab": {
          "base_uri": "https://localhost:8080/",
          "height": 185
        }
      },
      "source": [
        "#jumlah baris setelah menghapus yg terduplikat\n",
        "df.count()"
      ],
      "execution_count": 118,
      "outputs": [
        {
          "output_type": "execute_result",
          "data": {
            "text/plain": [
              "Make                10921\n",
              "Model               10921\n",
              "Year                10921\n",
              "HP                  10852\n",
              "Engine Cylinders    10891\n",
              "Driven_Wheels       10921\n",
              "MPG-H               10921\n",
              "MPG-C               10921\n",
              "Price               10921\n",
              "dtype: int64"
            ]
          },
          "metadata": {
            "tags": []
          },
          "execution_count": 118
        }
      ]
    },
    {
      "cell_type": "code",
      "metadata": {
        "id": "zsmhMPD3pJg6",
        "outputId": "81771a1e-dbff-45ef-e3bf-ea4a22d0f9bf",
        "colab": {
          "base_uri": "https://localhost:8080/",
          "height": 185
        }
      },
      "source": [
        "#mencari nilai null\n",
        "print(df.isnull().sum())"
      ],
      "execution_count": 119,
      "outputs": [
        {
          "output_type": "stream",
          "text": [
            "Make                 0\n",
            "Model                0\n",
            "Year                 0\n",
            "HP                  69\n",
            "Engine Cylinders    30\n",
            "Driven_Wheels        0\n",
            "MPG-H                0\n",
            "MPG-C                0\n",
            "Price                0\n",
            "dtype: int64\n"
          ],
          "name": "stdout"
        }
      ]
    },
    {
      "cell_type": "code",
      "metadata": {
        "id": "0q06n19FpPT_",
        "outputId": "e2c6cbde-72fe-4ba6-9466-96cf97bbd1b9",
        "colab": {
          "base_uri": "https://localhost:8080/",
          "height": 185
        }
      },
      "source": [
        "#drop 'missing values'\n",
        "\n",
        "df = df.dropna() \n",
        "df.count()"
      ],
      "execution_count": 120,
      "outputs": [
        {
          "output_type": "execute_result",
          "data": {
            "text/plain": [
              "Make                10823\n",
              "Model               10823\n",
              "Year                10823\n",
              "HP                  10823\n",
              "Engine Cylinders    10823\n",
              "Driven_Wheels       10823\n",
              "MPG-H               10823\n",
              "MPG-C               10823\n",
              "Price               10823\n",
              "dtype: int64"
            ]
          },
          "metadata": {
            "tags": []
          },
          "execution_count": 120
        }
      ]
    },
    {
      "cell_type": "code",
      "metadata": {
        "id": "SSOUtyE7pYMx",
        "outputId": "8b8236db-853e-40a7-93cf-f77e6bb60ed5",
        "colab": {
          "base_uri": "https://localhost:8080/",
          "height": 185
        }
      },
      "source": [
        "#hasil drop\n",
        "print(df.isnull().sum()) "
      ],
      "execution_count": 121,
      "outputs": [
        {
          "output_type": "stream",
          "text": [
            "Make                0\n",
            "Model               0\n",
            "Year                0\n",
            "HP                  0\n",
            "Engine Cylinders    0\n",
            "Driven_Wheels       0\n",
            "MPG-H               0\n",
            "MPG-C               0\n",
            "Price               0\n",
            "dtype: int64\n"
          ],
          "name": "stdout"
        }
      ]
    },
    {
      "cell_type": "code",
      "metadata": {
        "id": "EX-sLhvxpg4E",
        "outputId": "c91f678f-1d7d-4861-c6c2-89ce44060beb",
        "colab": {
          "base_uri": "https://localhost:8080/",
          "height": 302
        }
      },
      "source": [
        "#outliner 'MPG-H'\n",
        "\n",
        "sns.boxplot(x=df['MPG-H'])"
      ],
      "execution_count": 94,
      "outputs": [
        {
          "output_type": "execute_result",
          "data": {
            "text/plain": [
              "<matplotlib.axes._subplots.AxesSubplot at 0x7f144c736518>"
            ]
          },
          "metadata": {
            "tags": []
          },
          "execution_count": 94
        },
        {
          "output_type": "display_data",
          "data": {
            "image/png": "[encoded data removed]",
            "text/plain": [
              "<Figure size 432x288 with 1 Axes>"
            ]
          },
          "metadata": {
            "tags": []
          }
        }
      ]
    },
    {
      "cell_type": "code",
      "metadata": {
        "id": "uDZ4WMcJqJDP",
        "outputId": "7ac69efd-ed92-45f7-db57-72111c11cb36",
        "colab": {
          "base_uri": "https://localhost:8080/",
          "height": 302
        }
      },
      "source": [
        "sns.boxplot(x=df['HP'])"
      ],
      "execution_count": 95,
      "outputs": [
        {
          "output_type": "execute_result",
          "data": {
            "text/plain": [
              "<matplotlib.axes._subplots.AxesSubplot at 0x7f144c736978>"
            ]
          },
          "metadata": {
            "tags": []
          },
          "execution_count": 95
        },
        {
          "output_type": "display_data",
          "data": {
            "image/png": "[encoded data removed]",
            "text/plain": [
              "<Figure size 432x288 with 1 Axes>"
            ]
          },
          "metadata": {
            "tags": []
          }
        }
      ]
    },
    {
      "cell_type": "code",
      "metadata": {
        "id": "y3Z652hXqRbL",
        "outputId": "08f329a7-79f0-4dcd-ac47-57f634854ef6",
        "colab": {
          "base_uri": "https://localhost:8080/",
          "height": 302
        }
      },
      "source": [
        "sns.boxplot(x=df['Price'])"
      ],
      "execution_count": 98,
      "outputs": [
        {
          "output_type": "execute_result",
          "data": {
            "text/plain": [
              "<matplotlib.axes._subplots.AxesSubplot at 0x7f144c753c18>"
            ]
          },
          "metadata": {
            "tags": []
          },
          "execution_count": 98
        },
        {
          "output_type": "display_data",
          "data": {
            "image/png": "[encoded data removed]",
            "text/plain": [
              "<Figure size 432x288 with 1 Axes>"
            ]
          },
          "metadata": {
            "tags": []
          }
        }
      ]
    },
    {
      "cell_type": "code",
      "metadata": {
        "id": "PMHJYj2cqKSp",
        "outputId": "d2d12108-1ae0-4d0b-c28f-9564bf4ae86f",
        "colab": {
          "base_uri": "https://localhost:8080/",
          "height": 302
        }
      },
      "source": [
        "sns.boxplot(x=df['Year'])"
      ],
      "execution_count": 96,
      "outputs": [
        {
          "output_type": "execute_result",
          "data": {
            "text/plain": [
              "<matplotlib.axes._subplots.AxesSubplot at 0x7f144c1be400>"
            ]
          },
          "metadata": {
            "tags": []
          },
          "execution_count": 96
        },
        {
          "output_type": "display_data",
          "data": {
            "image/png": "[encoded data removed]",
            "text/plain": [
              "<Figure size 432x288 with 1 Axes>"
            ]
          },
          "metadata": {
            "tags": []
          }
        }
      ]
    },
    {
      "cell_type": "code",
      "metadata": {
        "id": "odTk7e7AqOvh",
        "outputId": "4faf24d6-fa7b-4630-f027-85311b114b7b",
        "colab": {
          "base_uri": "https://localhost:8080/",
          "height": 302
        }
      },
      "source": [
        "sns.boxplot(x=df['MPG-C'])"
      ],
      "execution_count": 97,
      "outputs": [
        {
          "output_type": "execute_result",
          "data": {
            "text/plain": [
              "<matplotlib.axes._subplots.AxesSubplot at 0x7f144c629080>"
            ]
          },
          "metadata": {
            "tags": []
          },
          "execution_count": 97
        },
        {
          "output_type": "display_data",
          "data": {
            "image/png": "[encoded data removed]",
            "text/plain": [
              "<Figure size 432x288 with 1 Axes>"
            ]
          },
          "metadata": {
            "tags": []
          }
        }
      ]
    },
    {
      "cell_type": "code",
      "metadata": {
        "id": "dVDqjmsUqXCg",
        "outputId": "326dcc4b-3266-490a-9e0e-2d6e3750afa7",
        "colab": {
          "base_uri": "https://localhost:8080/",
          "height": 134
        }
      },
      "source": [
        "# Q = Kuartil\n",
        "\n",
        "Q1 = df.quantile(0.25)\n",
        "Q3 = df.quantile(0.75)\n",
        "IQR = Q3 - Q1\n",
        "print(IQR)"
      ],
      "execution_count": 122,
      "outputs": [
        {
          "output_type": "stream",
          "text": [
            "Year                    9.0\n",
            "HP                    130.0\n",
            "Engine Cylinders        2.0\n",
            "MPG-H                   8.0\n",
            "MPG-C                   6.0\n",
            "Price               21322.5\n",
            "dtype: float64\n"
          ],
          "name": "stdout"
        }
      ]
    },
    {
      "cell_type": "code",
      "metadata": {
        "id": "mVdfpnaEqkv9",
        "outputId": "83487833-16b8-4047-daa5-d7b75f9116db",
        "colab": {
          "base_uri": "https://localhost:8080/",
          "height": 34
        }
      },
      "source": [
        "#menghapus outliner\n",
        "df = df[~((df < (Q1 - 1.5 * IQR)) |(df > (Q3 + 1.5 * IQR))).any(axis=1)]\n",
        "df.shape"
      ],
      "execution_count": 100,
      "outputs": [
        {
          "output_type": "execute_result",
          "data": {
            "text/plain": [
              "(9190, 11)"
            ]
          },
          "metadata": {
            "tags": []
          },
          "execution_count": 100
        }
      ]
    },
    {
      "cell_type": "code",
      "metadata": {
        "id": "k8hV0_0gqrY2",
        "outputId": "703b104a-b39a-4488-8cdd-1870af09ab19",
        "colab": {
          "base_uri": "https://localhost:8080/",
          "height": 429
        }
      },
      "source": [
        "df.Make.value_counts().nlargest(40).plot(kind='bar', figsize=(10,5))\n",
        "plt.title(\"Number of cars by make\")\n",
        "plt.ylabel('Number of cars')\n",
        "plt.xlabel('Make');"
      ],
      "execution_count": 123,
      "outputs": [
        {
          "output_type": "display_data",
          "data": {
            "image/png": "[encoded data removed]",
            "text/plain": [
              "<Figure size 720x360 with 1 Axes>"
            ]
          },
          "metadata": {
            "tags": []
          }
        }
      ]
    },
    {
      "cell_type": "code",
      "metadata": {
        "id": "5HHHBK7Eqwer",
        "outputId": "7d4ad36e-c7de-4fc5-fc67-1393129bfa8c",
        "colab": {
          "base_uri": "https://localhost:8080/",
          "height": 373
        }
      },
      "source": [
        "df.Year.value_counts().nlargest(40).plot(kind='bar', figsize=(10,5))\n",
        "plt.title(\"Number of cars by Year\")\n",
        "plt.ylabel('Number of cars')\n",
        "plt.xlabel('Year');"
      ],
      "execution_count": 102,
      "outputs": [
        {
          "output_type": "display_data",
          "data": {
            "image/png": "[encoded data removed]",
            "text/plain": [
              "<Figure size 720x360 with 1 Axes>"
            ]
          },
          "metadata": {
            "tags": []
          }
        }
      ]
    },
    {
      "cell_type": "code",
      "metadata": {
        "id": "9TI5oBlNqy87",
        "outputId": "3b3a9c45-4000-46bd-e3f1-e1bb9acbe042",
        "colab": {
          "base_uri": "https://localhost:8080/",
          "height": 622
        }
      },
      "source": [
        "plt.figure(figsize=(10,6))\n",
        "c= df.corr()\n",
        "sns.heatmap(c,cmap=\"YlGnBu\",annot=True)\n",
        "c"
      ],
      "execution_count": 124,
      "outputs": [
        {
          "output_type": "execute_result",
          "data": {
            "text/html": [
              "<div>\n",
              "<style scoped>\n",
              "    .dataframe tbody tr th:only-of-type {\n",
              "        vertical-align: middle;\n",
              "    }\n",
              "\n",
              "    .dataframe tbody tr th {\n",
              "        vertical-align: top;\n",
              "    }\n",
              "\n",
              "    .dataframe thead th {\n",
              "        text-align: right;\n",
              "    }\n",
              "</style>\n",
              "<table border=\"1\" class=\"dataframe\">\n",
              "  <thead>\n",
              "    <tr style=\"text-align: right;\">\n",
              "      <th></th>\n",
              "      <th>Year</th>\n",
              "      <th>HP</th>\n",
              "      <th>Engine Cylinders</th>\n",
              "      <th>MPG-H</th>\n",
              "      <th>MPG-C</th>\n",
              "      <th>Price</th>\n",
              "    </tr>\n",
              "  </thead>\n",
              "  <tbody>\n",
              "    <tr>\n",
              "      <th>Year</th>\n",
              "      <td>1.000000</td>\n",
              "      <td>0.314788</td>\n",
              "      <td>-0.051008</td>\n",
              "      <td>0.284357</td>\n",
              "      <td>0.234347</td>\n",
              "      <td>0.196632</td>\n",
              "    </tr>\n",
              "    <tr>\n",
              "      <th>HP</th>\n",
              "      <td>0.314788</td>\n",
              "      <td>1.000000</td>\n",
              "      <td>0.787751</td>\n",
              "      <td>-0.420232</td>\n",
              "      <td>-0.473454</td>\n",
              "      <td>0.659282</td>\n",
              "    </tr>\n",
              "    <tr>\n",
              "      <th>Engine Cylinders</th>\n",
              "      <td>-0.051008</td>\n",
              "      <td>0.787751</td>\n",
              "      <td>1.000000</td>\n",
              "      <td>-0.611567</td>\n",
              "      <td>-0.632380</td>\n",
              "      <td>0.554141</td>\n",
              "    </tr>\n",
              "    <tr>\n",
              "      <th>MPG-H</th>\n",
              "      <td>0.284357</td>\n",
              "      <td>-0.420232</td>\n",
              "      <td>-0.611567</td>\n",
              "      <td>1.000000</td>\n",
              "      <td>0.841219</td>\n",
              "      <td>-0.208880</td>\n",
              "    </tr>\n",
              "    <tr>\n",
              "      <th>MPG-C</th>\n",
              "      <td>0.234347</td>\n",
              "      <td>-0.473454</td>\n",
              "      <td>-0.632380</td>\n",
              "      <td>0.841219</td>\n",
              "      <td>1.000000</td>\n",
              "      <td>-0.233723</td>\n",
              "    </tr>\n",
              "    <tr>\n",
              "      <th>Price</th>\n",
              "      <td>0.196632</td>\n",
              "      <td>0.659282</td>\n",
              "      <td>0.554141</td>\n",
              "      <td>-0.208880</td>\n",
              "      <td>-0.233723</td>\n",
              "      <td>1.000000</td>\n",
              "    </tr>\n",
              "  </tbody>\n",
              "</table>\n",
              "</div>"
            ],
            "text/plain": [
              "                      Year        HP  ...     MPG-C     Price\n",
              "Year              1.000000  0.314788  ...  0.234347  0.196632\n",
              "HP                0.314788  1.000000  ... -0.473454  0.659282\n",
              "Engine Cylinders -0.051008  0.787751  ... -0.632380  0.554141\n",
              "MPG-H             0.284357 -0.420232  ...  0.841219 -0.208880\n",
              "MPG-C             0.234347 -0.473454  ...  1.000000 -0.233723\n",
              "Price             0.196632  0.659282  ... -0.233723  1.000000\n",
              "\n",
              "[6 rows x 6 columns]"
            ]
          },
          "metadata": {
            "tags": []
          },
          "execution_count": 124
        },
        {
          "output_type": "display_data",
          "data": {
            "image/png": "[encoded data removed]",
            "text/plain": [
              "<Figure size 720x432 with 2 Axes>"
            ]
          },
          "metadata": {
            "tags": []
          }
        }
      ]
    },
    {
      "cell_type": "code",
      "metadata": {
        "id": "d35kuWpItEc7"
      },
      "source": [
        ""
      ],
      "execution_count": null,
      "outputs": []
    }
  ]
}