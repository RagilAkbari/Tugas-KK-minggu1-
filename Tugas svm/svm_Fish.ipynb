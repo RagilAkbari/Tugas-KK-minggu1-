{
  "nbformat": 4,
  "nbformat_minor": 0,
  "metadata": {
    "colab": {
      "name": "Untitled2.ipynb",
      "provenance": []
    },
    "kernelspec": {
      "name": "python3",
      "display_name": "Python 3"
    }
  },
  "cells": [
    {
      "cell_type": "code",
      "metadata": {
        "colab": {
          "base_uri": "https://localhost:8080/"
        },
        "id": "0gHTavCSSboe",
        "outputId": "ddddfd46-0475-4607-c62f-12af014eb745"
      },
      "source": [
        "\n",
        "!apt-get install swig -y\n",
        "!pip install Cython numpy\n",
        "\n",
        "!pip install auto-sklearn"
      ],
      "execution_count": 16,
      "outputs": [
        {
          "output_type": "stream",
          "text": [
            "Reading package lists... Done\n",
            "Building dependency tree       \n",
            "Reading state information... Done\n",
            "The following additional packages will be installed:\n",
            "  swig3.0\n",
            "Suggested packages:\n",
            "  swig-doc swig-examples swig3.0-examples swig3.0-doc\n",
            "The following NEW packages will be installed:\n",
            "  swig swig3.0\n",
            "0 upgraded, 2 newly installed, 0 to remove and 14 not upgraded.\n",
            "Need to get 1,100 kB of archives.\n",
            "After this operation, 5,822 kB of additional disk space will be used.\n",
            "Get:1 http://archive.ubuntu.com/ubuntu bionic/universe amd64 swig3.0 amd64 3.0.12-1 [1,094 kB]\n",
            "Get:2 http://archive.ubuntu.com/ubuntu bionic/universe amd64 swig amd64 3.0.12-1 [6,460 B]\n",
            "Fetched 1,100 kB in 1s (1,048 kB/s)\n",
            "Selecting previously unselected package swig3.0.\n",
            "(Reading database ... 144793 files and directories currently installed.)\n",
            "Preparing to unpack .../swig3.0_3.0.12-1_amd64.deb ...\n",
            "Unpacking swig3.0 (3.0.12-1) ...\n",
            "Selecting previously unselected package swig.\n",
            "Preparing to unpack .../swig_3.0.12-1_amd64.deb ...\n",
            "Unpacking swig (3.0.12-1) ...\n",
            "Setting up swig3.0 (3.0.12-1) ...\n",
            "Setting up swig (3.0.12-1) ...\n",
            "Processing triggers for man-db (2.8.3-2ubuntu0.1) ...\n",
            "Requirement already satisfied: Cython in /usr/local/lib/python3.6/dist-packages (0.29.21)\n",
            "Requirement already satisfied: numpy in /usr/local/lib/python3.6/dist-packages (1.18.5)\n",
            "Processing /root/.cache/pip/wheels/e4/09/38/251380c672ba9bdb3526c18a87df0bd8aed33dadb7afe645e8/auto_sklearn-0.11.1-cp36-none-any.whl\n",
            "Collecting pyrfr<0.9,>=0.7\n",
            "  Using cached https://files.pythonhosted.org/packages/ed/0f/4d7e42a9dfef3a1898e03cffa8f1cfcd1f96507d718808b2db584c6f8401/pyrfr-0.8.0.tar.gz\n",
            "Requirement already satisfied: setuptools in /usr/local/lib/python3.6/dist-packages (from auto-sklearn) (50.3.2)\n",
            "Requirement already satisfied: pyyaml in /usr/local/lib/python3.6/dist-packages (from auto-sklearn) (3.13)\n",
            "Requirement already satisfied: ConfigSpace<0.5,>=0.4.14 in /usr/local/lib/python3.6/dist-packages (from auto-sklearn) (0.4.16)\n",
            "Requirement already satisfied: pynisher>=0.6.1 in /usr/local/lib/python3.6/dist-packages (from auto-sklearn) (0.6.2)\n",
            "Requirement already satisfied: liac-arff in /usr/local/lib/python3.6/dist-packages (from auto-sklearn) (2.5.0)\n",
            "Processing /root/.cache/pip/wheels/29/a6/af/9ec3c1ff517759ad1aad6babcbcf047dd5078c8b08fa4e63cc/smac-0.13.1-cp36-none-any.whl\n",
            "Requirement already satisfied: lockfile in /usr/local/lib/python3.6/dist-packages (from auto-sklearn) (0.12.2)\n",
            "Requirement already satisfied: dask in /usr/local/lib/python3.6/dist-packages (from auto-sklearn) (2.12.0)\n",
            "Requirement already satisfied: numpy>=1.9.0 in /usr/local/lib/python3.6/dist-packages (from auto-sklearn) (1.18.5)\n",
            "Requirement already satisfied: joblib in /usr/local/lib/python3.6/dist-packages (from auto-sklearn) (0.17.0)\n",
            "Requirement already satisfied: distributed>=2.2.0 in /usr/local/lib/python3.6/dist-packages (from auto-sklearn) (2.30.1)\n",
            "Requirement already satisfied: scipy>=0.14.1 in /usr/local/lib/python3.6/dist-packages (from auto-sklearn) (1.4.1)\n",
            "Requirement already satisfied: scikit-learn<0.23,>=0.22.0 in /usr/local/lib/python3.6/dist-packages (from auto-sklearn) (0.22.2.post1)\n",
            "Requirement already satisfied: pandas>=1.0 in /usr/local/lib/python3.6/dist-packages (from auto-sklearn) (1.1.4)\n",
            "Requirement already satisfied: pyparsing in /usr/local/lib/python3.6/dist-packages (from ConfigSpace<0.5,>=0.4.14->auto-sklearn) (2.4.7)\n",
            "Requirement already satisfied: cython in /usr/local/lib/python3.6/dist-packages (from ConfigSpace<0.5,>=0.4.14->auto-sklearn) (0.29.21)\n",
            "Requirement already satisfied: docutils>=0.3 in /usr/local/lib/python3.6/dist-packages (from pynisher>=0.6.1->auto-sklearn) (0.16)\n",
            "Requirement already satisfied: psutil in /usr/local/lib/python3.6/dist-packages (from pynisher>=0.6.1->auto-sklearn) (5.4.8)\n",
            "Processing /root/.cache/pip/wheels/a9/b0/b5/8c7e6810aee14bc4ed4a542ce56e744126263bf4f4825a9094/lazy_import-0.2.2-py2.py3-none-any.whl\n",
            "Requirement already satisfied: tblib>=1.6.0 in /usr/local/lib/python3.6/dist-packages (from distributed>=2.2.0->auto-sklearn) (1.7.0)\n",
            "Requirement already satisfied: click>=6.6 in /usr/local/lib/python3.6/dist-packages (from distributed>=2.2.0->auto-sklearn) (7.1.2)\n",
            "Requirement already satisfied: toolz>=0.8.2 in /usr/local/lib/python3.6/dist-packages (from distributed>=2.2.0->auto-sklearn) (0.11.1)\n",
            "Requirement already satisfied: sortedcontainers!=2.0.0,!=2.0.1 in /usr/local/lib/python3.6/dist-packages (from distributed>=2.2.0->auto-sklearn) (2.3.0)\n",
            "Requirement already satisfied: zict>=0.1.3 in /usr/local/lib/python3.6/dist-packages (from distributed>=2.2.0->auto-sklearn) (2.0.0)\n",
            "Requirement already satisfied: tornado>=5; python_version < \"3.8\" in /usr/local/lib/python3.6/dist-packages (from distributed>=2.2.0->auto-sklearn) (5.1.1)\n",
            "Requirement already satisfied: contextvars; python_version < \"3.7\" in /usr/local/lib/python3.6/dist-packages (from distributed>=2.2.0->auto-sklearn) (2.4)\n",
            "Requirement already satisfied: cloudpickle>=1.5.0 in /usr/local/lib/python3.6/dist-packages (from distributed>=2.2.0->auto-sklearn) (1.6.0)\n",
            "Requirement already satisfied: msgpack>=0.6.0 in /usr/local/lib/python3.6/dist-packages (from distributed>=2.2.0->auto-sklearn) (1.0.0)\n",
            "Requirement already satisfied: pytz>=2017.2 in /usr/local/lib/python3.6/dist-packages (from pandas>=1.0->auto-sklearn) (2018.9)\n",
            "Requirement already satisfied: python-dateutil>=2.7.3 in /usr/local/lib/python3.6/dist-packages (from pandas>=1.0->auto-sklearn) (2.8.1)\n",
            "Requirement already satisfied: six in /usr/local/lib/python3.6/dist-packages (from lazy-import->smac<0.14,>=0.13.1->auto-sklearn) (1.15.0)\n",
            "Requirement already satisfied: heapdict in /usr/local/lib/python3.6/dist-packages (from zict>=0.1.3->distributed>=2.2.0->auto-sklearn) (1.0.1)\n",
            "Requirement already satisfied: immutables>=0.9 in /usr/local/lib/python3.6/dist-packages (from contextvars; python_version < \"3.7\"->distributed>=2.2.0->auto-sklearn) (0.14)\n",
            "Building wheels for collected packages: pyrfr\n",
            "  Building wheel for pyrfr (setup.py) ... \u001b[?25l\u001b[?25hdone\n",
            "  Created wheel for pyrfr: filename=pyrfr-0.8.0-cp36-cp36m-linux_x86_64.whl size=2540869 sha256=f8128f51efde3bba9ec069dee3da85d9ca8fdd1722c259ec96e663c8a80f415a\n",
            "  Stored in directory: /root/.cache/pip/wheels/61/1a/d2/b5aee388a492a01946143d3c976b2ca810af537480e1f16999\n",
            "Successfully built pyrfr\n",
            "Installing collected packages: pyrfr, lazy-import, smac, auto-sklearn\n",
            "Successfully installed auto-sklearn-0.11.1 lazy-import-0.2.2 pyrfr-0.8.0 smac-0.13.1\n"
          ],
          "name": "stdout"
        }
      ]
    },
    {
      "cell_type": "code",
      "metadata": {
        "id": "RIJnuUWSMb-h"
      },
      "source": [
        "import pandas as pd\n",
        "import numpy as np\n",
        "np.warnings.filterwarnings('ignore')\n"
      ],
      "execution_count": 17,
      "outputs": []
    },
    {
      "cell_type": "code",
      "metadata": {
        "id": "b1zTU8WATT9W"
      },
      "source": [
        "import sklearn.model_selection\n",
        "import sklearn.datasets\n",
        "import sklearn.metrics"
      ],
      "execution_count": 18,
      "outputs": []
    },
    {
      "cell_type": "code",
      "metadata": {
        "id": "aqRbrH-Tbl_t"
      },
      "source": [
        "import sklearn.preprocessing\n",
        "import sklearn.svm\n",
        "import matplotlib.pyplot as plt\n",
        "from matplotlib.colors import Normalize"
      ],
      "execution_count": 46,
      "outputs": []
    },
    {
      "cell_type": "code",
      "metadata": {
        "colab": {
          "base_uri": "https://localhost:8080/"
        },
        "id": "CwuvoeFgM2Yw",
        "outputId": "99e077bf-e4f1-4aad-cdaf-779346ac79a3"
      },
      "source": [
        "url = 'https://raw.githubusercontent.com/RagilAkbari/Tugas-KK-minggu1-/main/Fish.csv'\n",
        "\n",
        "df = pd.read_csv (url, index_col=0)\n",
        "print(df.head(5))"
      ],
      "execution_count": 36,
      "outputs": [
        {
          "output_type": "stream",
          "text": [
            "         Weight  Length1  Length2  Length3   Height   Width\n",
            "Species                                                    \n",
            "Bream     242.0     23.2     25.4     30.0  11.5200  4.0200\n",
            "Bream     290.0     24.0     26.3     31.2  12.4800  4.3056\n",
            "Bream     340.0     23.9     26.5     31.1  12.3778  4.6961\n",
            "Bream     363.0     26.3     29.0     33.5  12.7300  4.4555\n",
            "Bream     430.0     26.5     29.0     34.0  12.4440  5.1340\n"
          ],
          "name": "stdout"
        }
      ]
    },
    {
      "cell_type": "code",
      "metadata": {
        "colab": {
          "base_uri": "https://localhost:8080/"
        },
        "id": "hMvCtiX3Oe1-",
        "outputId": "bb3ac827-0284-48b1-bcbe-25ce76c86cf4"
      },
      "source": [
        "#baris,kolom\n",
        "df.shape"
      ],
      "execution_count": 38,
      "outputs": [
        {
          "output_type": "execute_result",
          "data": {
            "text/plain": [
              "(159, 6)"
            ]
          },
          "metadata": {
            "tags": []
          },
          "execution_count": 38
        }
      ]
    },
    {
      "cell_type": "code",
      "metadata": {
        "colab": {
          "base_uri": "https://localhost:8080/"
        },
        "id": "SXmNm6eOOk9F",
        "outputId": "031d7e7c-6372-42c4-e1d5-e12a7c62f97f"
      },
      "source": [
        "#tipe data\n",
        "df.dtypes"
      ],
      "execution_count": 37,
      "outputs": [
        {
          "output_type": "execute_result",
          "data": {
            "text/plain": [
              "Weight     float64\n",
              "Length1    float64\n",
              "Length2    float64\n",
              "Length3    float64\n",
              "Height     float64\n",
              "Width      float64\n",
              "dtype: object"
            ]
          },
          "metadata": {
            "tags": []
          },
          "execution_count": 37
        }
      ]
    },
    {
      "cell_type": "code",
      "metadata": {
        "id": "q3OeOpDAW4VC"
      },
      "source": [
        "#mengubah tipe data dari float64 ke int64 (jika tidak, akan terjadi Value Error unknown label type 'continuous')\n",
        "\n",
        "df[['Weight', 'Length1', 'Length2', 'Length3', 'Height', 'Width']] = df[['Weight', 'Length1', 'Length2', 'Length3', 'Height', 'Width']].astype(pd.np.int64)"
      ],
      "execution_count": 39,
      "outputs": []
    },
    {
      "cell_type": "code",
      "metadata": {
        "colab": {
          "base_uri": "https://localhost:8080/"
        },
        "id": "BTp83vKOXS17",
        "outputId": "fce44f29-aec3-4e03-fb97-beb5330d6ce3"
      },
      "source": [
        "#tipe data setelah diconvert\n",
        "df.dtypes"
      ],
      "execution_count": 40,
      "outputs": [
        {
          "output_type": "execute_result",
          "data": {
            "text/plain": [
              "Weight     int64\n",
              "Length1    int64\n",
              "Length2    int64\n",
              "Length3    int64\n",
              "Height     int64\n",
              "Width      int64\n",
              "dtype: object"
            ]
          },
          "metadata": {
            "tags": []
          },
          "execution_count": 40
        }
      ]
    },
    {
      "cell_type": "code",
      "metadata": {
        "id": "DfIAfnnmQXnH"
      },
      "source": [
        "# fitur\n",
        "a = df[['Length1', 'Length2', 'Length3', 'Height', 'Width']]\n",
        "# target\n",
        "b = df[['Weight']]"
      ],
      "execution_count": 41,
      "outputs": []
    },
    {
      "cell_type": "code",
      "metadata": {
        "id": "BvesULqEQynE"
      },
      "source": [
        "#data belajar dan test\n",
        "a_train, a_test, b_train, b_test = sklearn.model_selection.train_test_split(a,b, test_size=0.2,random_state=1)"
      ],
      "execution_count": 42,
      "outputs": []
    },
    {
      "cell_type": "code",
      "metadata": {
        "id": "39Fhj9jaTw-9"
      },
      "source": [
        "#SVM classifier\n",
        "clf = svm.SVC(kernel='linear')\n",
        "poly_clf = svm.SVC(kernel='poly', gamma='scale')\n",
        "rbf_clf = svm.SVC(kernel='rbf', gamma='scale')\n",
        "sig_clf = svm.SVC(kernel='sigmoid', gamma='scale')"
      ],
      "execution_count": 43,
      "outputs": []
    },
    {
      "cell_type": "code",
      "metadata": {
        "id": "Y2uznYMYUjYU"
      },
      "source": [
        "#data belajar\n",
        "clf.fit(a_train, b_train.values.ravel())\n",
        "poly_clf.fit(a_train, b_train.values.ravel())\n",
        "rbf_clf.fit(a_train, b_train.values.ravel())\n",
        "sig_clf.fit(a_train, b_train.values.ravel())\n",
        "#prediksi\n",
        "lin_b_pred = clf.predict(a_test)\n",
        "poly_b_pred = poly_clf.predict(a_test)\n",
        "rbf_b_pred = rbf_clf.predict(a_test)\n",
        "sig_b_pred = sig_clf.predict(a_test)"
      ],
      "execution_count": 44,
      "outputs": []
    },
    {
      "cell_type": "code",
      "metadata": {
        "colab": {
          "base_uri": "https://localhost:8080/"
        },
        "id": "aK0bQ738aeGW",
        "outputId": "4b5954bd-c600-45f0-83ff-1180cb8899f8"
      },
      "source": [
        "#hasil\n",
        "print(\"Akurasi linear:\",metrics.accuracy_score(b_test, lin_b_pred))\n",
        "print(\"Akurasi rbf:\",metrics.accuracy_score(b_test, rbf_b_pred))\n",
        "print(\"Akurasi polynomial:\",metrics.accuracy_score(b_test, poly_b_pred))\n",
        "print(\"Aakurasi sigmoid:\",metrics.accuracy_score(b_test, sig_b_pred))"
      ],
      "execution_count": 48,
      "outputs": [
        {
          "output_type": "stream",
          "text": [
            "Akurasi linear: 0.125\n",
            "Akurasi rbf: 0.0625\n",
            "Akurasi polynomial: 0.125\n",
            "Aakurasi sigmoid: 0.0\n"
          ],
          "name": "stdout"
        }
      ]
    },
    {
      "cell_type": "code",
      "metadata": {
        "id": "gMtn6jkge7C0"
      },
      "source": [
        "# massa ikan belum tentu dapat diukur dengan panjang,lebar,dan tinggi ikan"
      ],
      "execution_count": null,
      "outputs": []
    },
    {
      "cell_type": "code",
      "metadata": {
        "id": "TvnUmyrcbCCF"
      },
      "source": [
        "# plt.figure(figsize=(15, 5))\n",
        "\n",
        "# plt.subplot(1,2,1)\n",
        "# plt.scatter(a_test[:, 0], a_test[:, 1], c=y)\n",
        "# plt.xlabel('Sepal length')\n",
        "# plt.ylabel('Sepal width')\n",
        "\n",
        "# plt.subplot(1,2,2)\n",
        "# plt.scatter(b_test[:, 0], b_test[:, 1], c=y)\n",
        "# plt.xlabel('Petal length')\n",
        "# plt.ylabel('Petal width')"
      ],
      "execution_count": 51,
      "outputs": []
    }
  ]
}